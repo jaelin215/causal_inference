{
 "cells": [
  {
   "cell_type": "code",
   "execution_count": 132,
   "metadata": {},
   "outputs": [],
   "source": [
    "!pip install dowhy -q "
   ]
  },
  {
   "cell_type": "code",
   "execution_count": 133,
   "metadata": {},
   "outputs": [],
   "source": [
    "import numpy as np\n",
    "import pandas as pd \n",
    "from dowhy import CausalModel\n",
    "import dowhy.datasets"
   ]
  },
  {
   "cell_type": "code",
   "execution_count": 134,
   "metadata": {},
   "outputs": [],
   "source": [
    "data = dowhy.datasets.linear_dataset(beta=10,\n",
    "        num_common_causes=5,\n",
    "        num_instruments = 2,\n",
    "        num_effect_modifiers=1,\n",
    "        num_samples=5000,\n",
    "        treatment_is_binary=True,\n",
    "        stddev_treatment_noise=10,\n",
    "        num_discrete_common_causes=1)\n",
    "df = data[\"df\"]"
   ]
  },
  {
   "cell_type": "code",
   "execution_count": 135,
   "metadata": {},
   "outputs": [
    {
     "data": {
      "text/html": [
       "<div>\n",
       "<style scoped>\n",
       "    .dataframe tbody tr th:only-of-type {\n",
       "        vertical-align: middle;\n",
       "    }\n",
       "\n",
       "    .dataframe tbody tr th {\n",
       "        vertical-align: top;\n",
       "    }\n",
       "\n",
       "    .dataframe thead th {\n",
       "        text-align: right;\n",
       "    }\n",
       "</style>\n",
       "<table border=\"1\" class=\"dataframe\">\n",
       "  <thead>\n",
       "    <tr style=\"text-align: right;\">\n",
       "      <th></th>\n",
       "      <th>X0</th>\n",
       "      <th>Z0</th>\n",
       "      <th>Z1</th>\n",
       "      <th>W0</th>\n",
       "      <th>W1</th>\n",
       "      <th>W2</th>\n",
       "      <th>W3</th>\n",
       "      <th>W4</th>\n",
       "      <th>v0</th>\n",
       "      <th>y</th>\n",
       "    </tr>\n",
       "  </thead>\n",
       "  <tbody>\n",
       "    <tr>\n",
       "      <th>0</th>\n",
       "      <td>0.802715</td>\n",
       "      <td>1.0</td>\n",
       "      <td>0.639770</td>\n",
       "      <td>1.769283</td>\n",
       "      <td>0.674070</td>\n",
       "      <td>-0.332570</td>\n",
       "      <td>1.737682</td>\n",
       "      <td>1</td>\n",
       "      <td>True</td>\n",
       "      <td>21.003234</td>\n",
       "    </tr>\n",
       "    <tr>\n",
       "      <th>1</th>\n",
       "      <td>-1.049829</td>\n",
       "      <td>1.0</td>\n",
       "      <td>0.324844</td>\n",
       "      <td>1.271551</td>\n",
       "      <td>-0.159837</td>\n",
       "      <td>-0.043812</td>\n",
       "      <td>1.200456</td>\n",
       "      <td>3</td>\n",
       "      <td>True</td>\n",
       "      <td>18.659245</td>\n",
       "    </tr>\n",
       "    <tr>\n",
       "      <th>2</th>\n",
       "      <td>1.114656</td>\n",
       "      <td>1.0</td>\n",
       "      <td>0.939806</td>\n",
       "      <td>1.317983</td>\n",
       "      <td>1.349325</td>\n",
       "      <td>-3.113106</td>\n",
       "      <td>1.324723</td>\n",
       "      <td>1</td>\n",
       "      <td>True</td>\n",
       "      <td>20.678780</td>\n",
       "    </tr>\n",
       "    <tr>\n",
       "      <th>3</th>\n",
       "      <td>-1.789981</td>\n",
       "      <td>0.0</td>\n",
       "      <td>0.496011</td>\n",
       "      <td>-0.989227</td>\n",
       "      <td>0.032433</td>\n",
       "      <td>1.103229</td>\n",
       "      <td>0.277274</td>\n",
       "      <td>1</td>\n",
       "      <td>True</td>\n",
       "      <td>9.833704</td>\n",
       "    </tr>\n",
       "    <tr>\n",
       "      <th>4</th>\n",
       "      <td>-3.420701</td>\n",
       "      <td>0.0</td>\n",
       "      <td>0.859505</td>\n",
       "      <td>1.213444</td>\n",
       "      <td>-0.338042</td>\n",
       "      <td>-0.235136</td>\n",
       "      <td>0.422510</td>\n",
       "      <td>0</td>\n",
       "      <td>True</td>\n",
       "      <td>11.829053</td>\n",
       "    </tr>\n",
       "  </tbody>\n",
       "</table>\n",
       "</div>"
      ],
      "text/plain": [
       "         X0   Z0        Z1        W0        W1        W2        W3 W4    v0  \\\n",
       "0  0.802715  1.0  0.639770  1.769283  0.674070 -0.332570  1.737682  1  True   \n",
       "1 -1.049829  1.0  0.324844  1.271551 -0.159837 -0.043812  1.200456  3  True   \n",
       "2  1.114656  1.0  0.939806  1.317983  1.349325 -3.113106  1.324723  1  True   \n",
       "3 -1.789981  0.0  0.496011 -0.989227  0.032433  1.103229  0.277274  1  True   \n",
       "4 -3.420701  0.0  0.859505  1.213444 -0.338042 -0.235136  0.422510  0  True   \n",
       "\n",
       "           y  \n",
       "0  21.003234  \n",
       "1  18.659245  \n",
       "2  20.678780  \n",
       "3   9.833704  \n",
       "4  11.829053  "
      ]
     },
     "execution_count": 135,
     "metadata": {},
     "output_type": "execute_result"
    }
   ],
   "source": [
    "df.head()"
   ]
  },
  {
   "cell_type": "code",
   "execution_count": 136,
   "metadata": {},
   "outputs": [],
   "source": [
    "df = df.rename(columns={\n",
    "    'v0': 'takes_vitamins_daily',\n",
    "    'y': 'energy_level',\n",
    "    'W0': 'workout_freq',\n",
    "    'W1': 'income',\n",
    "    'W2': 'fruit_consumption',\n",
    "    'W3': 'sleep_hours',\n",
    "    'W4': 'extra_confounder',  # Rename as needed\n",
    "    'Z0': 'has_vitamins_home',\n",
    "    'Z1': 'has_vitamin_prescription',\n",
    "    'X0': 'age_group'\n",
    "})"
   ]
  },
  {
   "cell_type": "code",
   "execution_count": 137,
   "metadata": {},
   "outputs": [],
   "source": [
    "df['energy_level_norm'] = (df['energy_level'] - df['energy_level'].min()) / (df['energy_level'].max() - df['energy_level'].min())"
   ]
  },
  {
   "cell_type": "code",
   "execution_count": 138,
   "metadata": {},
   "outputs": [],
   "source": [
    "from dowhy import CausalModel\n",
    "\n",
    "model = CausalModel(\n",
    "    data=df,\n",
    "    treatment='takes_vitamins_daily',\n",
    "    outcome='energy_level_norm',\n",
    "    common_causes=[\n",
    "        'workout_freq', 'income', 'fruit_consumption', 'sleep_hours', 'extra_confounder'\n",
    "    ],\n",
    "    instruments=[\n",
    "        'has_vitamins_home', 'has_vitamin_prescription'\n",
    "    ],\n",
    "    effect_modifiers=['age_group']\n",
    ")"
   ]
  },
  {
   "cell_type": "code",
   "execution_count": 139,
   "metadata": {},
   "outputs": [
    {
     "data": {
      "text/html": [
       "<div>\n",
       "<style scoped>\n",
       "    .dataframe tbody tr th:only-of-type {\n",
       "        vertical-align: middle;\n",
       "    }\n",
       "\n",
       "    .dataframe tbody tr th {\n",
       "        vertical-align: top;\n",
       "    }\n",
       "\n",
       "    .dataframe thead th {\n",
       "        text-align: right;\n",
       "    }\n",
       "</style>\n",
       "<table border=\"1\" class=\"dataframe\">\n",
       "  <thead>\n",
       "    <tr style=\"text-align: right;\">\n",
       "      <th></th>\n",
       "      <th>age_group</th>\n",
       "      <th>has_vitamins_home</th>\n",
       "      <th>has_vitamin_prescription</th>\n",
       "      <th>workout_freq</th>\n",
       "      <th>income</th>\n",
       "      <th>fruit_consumption</th>\n",
       "      <th>sleep_hours</th>\n",
       "      <th>extra_confounder</th>\n",
       "      <th>takes_vitamins_daily</th>\n",
       "      <th>energy_level</th>\n",
       "      <th>energy_level_norm</th>\n",
       "    </tr>\n",
       "  </thead>\n",
       "  <tbody>\n",
       "    <tr>\n",
       "      <th>0</th>\n",
       "      <td>0.802715</td>\n",
       "      <td>1.0</td>\n",
       "      <td>0.639770</td>\n",
       "      <td>1.769283</td>\n",
       "      <td>0.674070</td>\n",
       "      <td>-0.332570</td>\n",
       "      <td>1.737682</td>\n",
       "      <td>1</td>\n",
       "      <td>True</td>\n",
       "      <td>21.003234</td>\n",
       "      <td>0.852185</td>\n",
       "    </tr>\n",
       "    <tr>\n",
       "      <th>1</th>\n",
       "      <td>-1.049829</td>\n",
       "      <td>1.0</td>\n",
       "      <td>0.324844</td>\n",
       "      <td>1.271551</td>\n",
       "      <td>-0.159837</td>\n",
       "      <td>-0.043812</td>\n",
       "      <td>1.200456</td>\n",
       "      <td>3</td>\n",
       "      <td>True</td>\n",
       "      <td>18.659245</td>\n",
       "      <td>0.805385</td>\n",
       "    </tr>\n",
       "    <tr>\n",
       "      <th>2</th>\n",
       "      <td>1.114656</td>\n",
       "      <td>1.0</td>\n",
       "      <td>0.939806</td>\n",
       "      <td>1.317983</td>\n",
       "      <td>1.349325</td>\n",
       "      <td>-3.113106</td>\n",
       "      <td>1.324723</td>\n",
       "      <td>1</td>\n",
       "      <td>True</td>\n",
       "      <td>20.678780</td>\n",
       "      <td>0.845707</td>\n",
       "    </tr>\n",
       "    <tr>\n",
       "      <th>3</th>\n",
       "      <td>-1.789981</td>\n",
       "      <td>0.0</td>\n",
       "      <td>0.496011</td>\n",
       "      <td>-0.989227</td>\n",
       "      <td>0.032433</td>\n",
       "      <td>1.103229</td>\n",
       "      <td>0.277274</td>\n",
       "      <td>1</td>\n",
       "      <td>True</td>\n",
       "      <td>9.833704</td>\n",
       "      <td>0.629176</td>\n",
       "    </tr>\n",
       "    <tr>\n",
       "      <th>4</th>\n",
       "      <td>-3.420701</td>\n",
       "      <td>0.0</td>\n",
       "      <td>0.859505</td>\n",
       "      <td>1.213444</td>\n",
       "      <td>-0.338042</td>\n",
       "      <td>-0.235136</td>\n",
       "      <td>0.422510</td>\n",
       "      <td>0</td>\n",
       "      <td>True</td>\n",
       "      <td>11.829053</td>\n",
       "      <td>0.669015</td>\n",
       "    </tr>\n",
       "    <tr>\n",
       "      <th>...</th>\n",
       "      <td>...</td>\n",
       "      <td>...</td>\n",
       "      <td>...</td>\n",
       "      <td>...</td>\n",
       "      <td>...</td>\n",
       "      <td>...</td>\n",
       "      <td>...</td>\n",
       "      <td>...</td>\n",
       "      <td>...</td>\n",
       "      <td>...</td>\n",
       "      <td>...</td>\n",
       "    </tr>\n",
       "    <tr>\n",
       "      <th>4995</th>\n",
       "      <td>0.245879</td>\n",
       "      <td>1.0</td>\n",
       "      <td>0.449950</td>\n",
       "      <td>-1.856968</td>\n",
       "      <td>0.379914</td>\n",
       "      <td>-1.239307</td>\n",
       "      <td>0.025397</td>\n",
       "      <td>0</td>\n",
       "      <td>True</td>\n",
       "      <td>5.513993</td>\n",
       "      <td>0.542929</td>\n",
       "    </tr>\n",
       "    <tr>\n",
       "      <th>4996</th>\n",
       "      <td>0.886262</td>\n",
       "      <td>1.0</td>\n",
       "      <td>0.333640</td>\n",
       "      <td>-0.050924</td>\n",
       "      <td>0.650056</td>\n",
       "      <td>-1.358493</td>\n",
       "      <td>-1.256007</td>\n",
       "      <td>0</td>\n",
       "      <td>False</td>\n",
       "      <td>1.274409</td>\n",
       "      <td>0.458282</td>\n",
       "    </tr>\n",
       "    <tr>\n",
       "      <th>4997</th>\n",
       "      <td>0.252013</td>\n",
       "      <td>1.0</td>\n",
       "      <td>0.156331</td>\n",
       "      <td>-0.317469</td>\n",
       "      <td>-1.068730</td>\n",
       "      <td>-1.056044</td>\n",
       "      <td>2.176843</td>\n",
       "      <td>1</td>\n",
       "      <td>True</td>\n",
       "      <td>6.072371</td>\n",
       "      <td>0.554078</td>\n",
       "    </tr>\n",
       "    <tr>\n",
       "      <th>4998</th>\n",
       "      <td>-0.411429</td>\n",
       "      <td>1.0</td>\n",
       "      <td>0.092972</td>\n",
       "      <td>-1.454388</td>\n",
       "      <td>-1.462539</td>\n",
       "      <td>-0.047081</td>\n",
       "      <td>-0.503066</td>\n",
       "      <td>3</td>\n",
       "      <td>True</td>\n",
       "      <td>3.320306</td>\n",
       "      <td>0.499130</td>\n",
       "    </tr>\n",
       "    <tr>\n",
       "      <th>4999</th>\n",
       "      <td>-0.902195</td>\n",
       "      <td>1.0</td>\n",
       "      <td>0.378851</td>\n",
       "      <td>-0.503226</td>\n",
       "      <td>0.988471</td>\n",
       "      <td>-0.811578</td>\n",
       "      <td>-0.547361</td>\n",
       "      <td>3</td>\n",
       "      <td>True</td>\n",
       "      <td>17.432536</td>\n",
       "      <td>0.780893</td>\n",
       "    </tr>\n",
       "  </tbody>\n",
       "</table>\n",
       "<p>5000 rows × 11 columns</p>\n",
       "</div>"
      ],
      "text/plain": [
       "      age_group  has_vitamins_home  has_vitamin_prescription  workout_freq  \\\n",
       "0      0.802715                1.0                  0.639770      1.769283   \n",
       "1     -1.049829                1.0                  0.324844      1.271551   \n",
       "2      1.114656                1.0                  0.939806      1.317983   \n",
       "3     -1.789981                0.0                  0.496011     -0.989227   \n",
       "4     -3.420701                0.0                  0.859505      1.213444   \n",
       "...         ...                ...                       ...           ...   \n",
       "4995   0.245879                1.0                  0.449950     -1.856968   \n",
       "4996   0.886262                1.0                  0.333640     -0.050924   \n",
       "4997   0.252013                1.0                  0.156331     -0.317469   \n",
       "4998  -0.411429                1.0                  0.092972     -1.454388   \n",
       "4999  -0.902195                1.0                  0.378851     -0.503226   \n",
       "\n",
       "        income  fruit_consumption  sleep_hours extra_confounder  \\\n",
       "0     0.674070          -0.332570     1.737682                1   \n",
       "1    -0.159837          -0.043812     1.200456                3   \n",
       "2     1.349325          -3.113106     1.324723                1   \n",
       "3     0.032433           1.103229     0.277274                1   \n",
       "4    -0.338042          -0.235136     0.422510                0   \n",
       "...        ...                ...          ...              ...   \n",
       "4995  0.379914          -1.239307     0.025397                0   \n",
       "4996  0.650056          -1.358493    -1.256007                0   \n",
       "4997 -1.068730          -1.056044     2.176843                1   \n",
       "4998 -1.462539          -0.047081    -0.503066                3   \n",
       "4999  0.988471          -0.811578    -0.547361                3   \n",
       "\n",
       "      takes_vitamins_daily  energy_level  energy_level_norm  \n",
       "0                     True     21.003234           0.852185  \n",
       "1                     True     18.659245           0.805385  \n",
       "2                     True     20.678780           0.845707  \n",
       "3                     True      9.833704           0.629176  \n",
       "4                     True     11.829053           0.669015  \n",
       "...                    ...           ...                ...  \n",
       "4995                  True      5.513993           0.542929  \n",
       "4996                 False      1.274409           0.458282  \n",
       "4997                  True      6.072371           0.554078  \n",
       "4998                  True      3.320306           0.499130  \n",
       "4999                  True     17.432536           0.780893  \n",
       "\n",
       "[5000 rows x 11 columns]"
      ]
     },
     "execution_count": 139,
     "metadata": {},
     "output_type": "execute_result"
    }
   ],
   "source": [
    "df"
   ]
  },
  {
   "cell_type": "code",
   "execution_count": 140,
   "metadata": {},
   "outputs": [
    {
     "name": "stdout",
     "output_type": "stream",
     "text": [
      "Estimand type: EstimandType.NONPARAMETRIC_ATE\n",
      "\n",
      "### Estimand : 1\n",
      "Estimand name: backdoor\n",
      "Estimand expression:\n",
      "           d                                                                   ↪\n",
      "───────────────────────(E[energy_level_norm|workout_freq,sleep_hours,fruit_con ↪\n",
      "d[takes_vitamins_daily]                                                        ↪\n",
      "\n",
      "↪                                   \n",
      "↪ sumption,income,extra_confounder])\n",
      "↪                                   \n",
      "Estimand assumption 1, Unconfoundedness: If U→{takes_vitamins_daily} and U→energy_level_norm then P(energy_level_norm|takes_vitamins_daily,workout_freq,sleep_hours,fruit_consumption,income,extra_confounder,U) = P(energy_level_norm|takes_vitamins_daily,workout_freq,sleep_hours,fruit_consumption,income,extra_confounder)\n",
      "\n",
      "### Estimand : 2\n",
      "Estimand name: iv\n",
      "Estimand expression:\n",
      " ⎡                                                                             ↪\n",
      " ⎢                      d                                         ⎛            ↪\n",
      "E⎢─────────────────────────────────────────────(energyₗₑᵥₑₗ ₙₒᵣₘ)⋅⎜─────────── ↪\n",
      " ⎣d[has_vitamin_prescription  hasᵥᵢₜₐₘᵢₙₛ ₕₒₘₑ]                   ⎝d[has_vitam ↪\n",
      "\n",
      "↪                                                            -1⎤\n",
      "↪            d                                              ⎞  ⎥\n",
      "↪ ──────────────────────────────────([takes_vitamins_daily])⎟  ⎥\n",
      "↪ in_prescription  hasᵥᵢₜₐₘᵢₙₛ ₕₒₘₑ]                        ⎠  ⎦\n",
      "Estimand assumption 1, As-if-random: If U→→energy_level_norm then ¬(U →→{has_vitamin_prescription,has_vitamins_home})\n",
      "Estimand assumption 2, Exclusion: If we remove {has_vitamin_prescription,has_vitamins_home}→{takes_vitamins_daily}, then ¬({has_vitamin_prescription,has_vitamins_home}→energy_level_norm)\n",
      "\n",
      "### Estimand : 3\n",
      "Estimand name: frontdoor\n",
      "No such variable(s) found!\n",
      "\n"
     ]
    }
   ],
   "source": [
    "identified_estimand = model.identify_effect(proceed_when_unidentifiable=True)\n",
    "print(identified_estimand)"
   ]
  },
  {
   "cell_type": "code",
   "execution_count": 141,
   "metadata": {},
   "outputs": [
    {
     "name": "stdout",
     "output_type": "stream",
     "text": [
      "*** Causal Estimate ***\n",
      "\n",
      "## Identified estimand\n",
      "Estimand type: EstimandType.NONPARAMETRIC_ATE\n",
      "\n",
      "### Estimand : 1\n",
      "Estimand name: backdoor\n",
      "Estimand expression:\n",
      "           d                                                                   ↪\n",
      "───────────────────────(E[energy_level_norm|workout_freq,sleep_hours,fruit_con ↪\n",
      "d[takes_vitamins_daily]                                                        ↪\n",
      "\n",
      "↪                                   \n",
      "↪ sumption,income,extra_confounder])\n",
      "↪                                   \n",
      "Estimand assumption 1, Unconfoundedness: If U→{takes_vitamins_daily} and U→energy_level_norm then P(energy_level_norm|takes_vitamins_daily,workout_freq,sleep_hours,fruit_consumption,income,extra_confounder,U) = P(energy_level_norm|takes_vitamins_daily,workout_freq,sleep_hours,fruit_consumption,income,extra_confounder)\n",
      "\n",
      "## Realized estimand\n",
      "b: energy_level_norm~takes_vitamins_daily+workout_freq+sleep_hours+fruit_consumption+income+extra_confounder\n",
      "Target units: ate\n",
      "\n",
      "## Estimate\n",
      "Mean value: 0.20129513887070638\n",
      "\n"
     ]
    }
   ],
   "source": [
    "causal_estimate = model.estimate_effect(identified_estimand,\n",
    "        method_name=\"backdoor.propensity_score_stratification\")\n",
    "print(causal_estimate)"
   ]
  },
  {
   "cell_type": "markdown",
   "metadata": {},
   "source": [
    "📈 Result\n",
    "\n",
    "• Causal Estimate: 0.1858\n",
    "\n",
    "• This means that taking vitamins daily increases normalized energy level by ~0.186 units on average, holding the confounders constant.\n",
    "\n",
    "• Outcome scale: Since you normalized energy_level (e.g., between 0 and 1), the effect is now interpreted on that scale."
   ]
  },
  {
   "cell_type": "markdown",
   "metadata": {},
   "source": [
    "📌 Interpretation\n",
    "\n",
    "energy_level_norm was scaled from 0 to 1:\n",
    "\n",
    "Taking vitamins daily is associated with an average 18.6% increase in normalized energy level, controlling for confounders."
   ]
  },
  {
   "cell_type": "markdown",
   "metadata": {},
   "source": [
    "🧪 Assumptions\n",
    "\n",
    "The estimate relies on the backdoor criterion, which assumes:\n",
    "\n",
    "• All confounders that affect both the treatment (takes_vitamins_daily) and the outcome (energy_level) are observed and included (like workout, sleep, etc.).\n",
    "\n",
    "• There are no unobserved confounders (i.e., the assumption of unconfoundedness holds)."
   ]
  },
  {
   "cell_type": "markdown",
   "metadata": {},
   "source": [
    "⚠️ Important Caveats\n",
    "\n",
    "• This does not mean that everyone who takes vitamins will feel exactly 0.18 units more energized. It’s an average effect across the population.\n",
    "\n",
    "• If some confounders are unobserved or measured poorly, the estimate could be biased.\n"
   ]
  },
  {
   "cell_type": "markdown",
   "metadata": {},
   "source": [
    "✅ Conclusion\n",
    "\n",
    "This is a statistically and practically interpretable causal estimate. If your model assumptions hold (especially unconfoundedness), then you can interpret this as a causal effect, not just correlation."
   ]
  },
  {
   "cell_type": "code",
   "execution_count": 142,
   "metadata": {},
   "outputs": [
    {
     "name": "stdout",
     "output_type": "stream",
     "text": [
      "*** Causal Estimate ***\n",
      "\n",
      "## Identified estimand\n",
      "Estimand type: EstimandType.NONPARAMETRIC_ATE\n",
      "\n",
      "### Estimand : 1\n",
      "Estimand name: backdoor\n",
      "Estimand expression:\n",
      "           d                                                                   ↪\n",
      "───────────────────────(E[energy_level_norm|workout_freq,sleep_hours,fruit_con ↪\n",
      "d[takes_vitamins_daily]                                                        ↪\n",
      "\n",
      "↪                                   \n",
      "↪ sumption,income,extra_confounder])\n",
      "↪                                   \n",
      "Estimand assumption 1, Unconfoundedness: If U→{takes_vitamins_daily} and U→energy_level_norm then P(energy_level_norm|takes_vitamins_daily,workout_freq,sleep_hours,fruit_consumption,income,extra_confounder,U) = P(energy_level_norm|takes_vitamins_daily,workout_freq,sleep_hours,fruit_consumption,income,extra_confounder)\n",
      "\n",
      "## Realized estimand\n",
      "b: energy_level_norm~takes_vitamins_daily+workout_freq+sleep_hours+fruit_consumption+income+extra_confounder\n",
      "Target units: atc\n",
      "\n",
      "## Estimate\n",
      "Mean value: 0.2011552014349139\n",
      "\n",
      "Causal Estimate is 0.2011552014349139\n"
     ]
    }
   ],
   "source": [
    "# Causal effect on the control group (ATC)\n",
    "causal_estimate_att = model.estimate_effect(identified_estimand,\n",
    "        method_name=\"backdoor.propensity_score_stratification\",\n",
    "        target_units = \"atc\")\n",
    "print(causal_estimate_att)\n",
    "print(\"Causal Estimate is \" + str(causal_estimate_att.value))"
   ]
  },
  {
   "cell_type": "code",
   "execution_count": 143,
   "metadata": {},
   "outputs": [],
   "source": [
    "identified_estimand = model.identify_effect(proceed_when_unidentifiable=True)"
   ]
  },
  {
   "cell_type": "code",
   "execution_count": 144,
   "metadata": {},
   "outputs": [
    {
     "name": "stdout",
     "output_type": "stream",
     "text": [
      "*** Causal Estimate ***\n",
      "\n",
      "## Identified estimand\n",
      "Estimand type: EstimandType.NONPARAMETRIC_ATE\n",
      "\n",
      "### Estimand : 1\n",
      "Estimand name: backdoor\n",
      "Estimand expression:\n",
      "           d                                                                   ↪\n",
      "───────────────────────(E[energy_level_norm|workout_freq,sleep_hours,fruit_con ↪\n",
      "d[takes_vitamins_daily]                                                        ↪\n",
      "\n",
      "↪                                   \n",
      "↪ sumption,income,extra_confounder])\n",
      "↪                                   \n",
      "Estimand assumption 1, Unconfoundedness: If U→{takes_vitamins_daily} and U→energy_level_norm then P(energy_level_norm|takes_vitamins_daily,workout_freq,sleep_hours,fruit_consumption,income,extra_confounder,U) = P(energy_level_norm|takes_vitamins_daily,workout_freq,sleep_hours,fruit_consumption,income,extra_confounder)\n",
      "\n",
      "## Realized estimand\n",
      "b: energy_level_norm~takes_vitamins_daily+workout_freq+sleep_hours+fruit_consumption+income+extra_confounder\n",
      "Target units: ate\n",
      "\n",
      "## Estimate\n",
      "Mean value: 0.20129513887070638\n",
      "\n",
      "Causal Estimate is 0.20129513887070638\n"
     ]
    }
   ],
   "source": [
    "estimate = model.estimate_effect(identified_estimand,\n",
    "                                 method_name=\"backdoor.propensity_score_stratification\")\n",
    "print(estimate)\n",
    "print(\"Causal Estimate is \" + str(estimate.value))"
   ]
  },
  {
   "cell_type": "code",
   "execution_count": 145,
   "metadata": {},
   "outputs": [
    {
     "name": "stderr",
     "output_type": "stream",
     "text": [
      "Refuting Estimates: 100%|\u001b[32m██████████\u001b[0m| 100/100 [00:09<00:00, 11.07it/s]"
     ]
    },
    {
     "name": "stdout",
     "output_type": "stream",
     "text": [
      "Refute: Add a random common cause\n",
      "Estimated effect:0.20129513887070638\n",
      "New effect:0.2012951388707064\n",
      "p value:1.0\n",
      "\n"
     ]
    },
    {
     "name": "stderr",
     "output_type": "stream",
     "text": [
      "\n"
     ]
    }
   ],
   "source": [
    "res_random=model.refute_estimate(identified_estimand, estimate, method_name=\"random_common_cause\", show_progress_bar=True)\n",
    "print(res_random)"
   ]
  },
  {
   "cell_type": "code",
   "execution_count": 146,
   "metadata": {},
   "outputs": [
    {
     "name": "stderr",
     "output_type": "stream",
     "text": [
      "Refuting Estimates: 100%|\u001b[32m██████████\u001b[0m| 100/100 [00:09<00:00, 11.07it/s]"
     ]
    },
    {
     "name": "stdout",
     "output_type": "stream",
     "text": [
      "Refute: Use a Placebo Treatment\n",
      "Estimated effect:0.20129513887070638\n",
      "New effect:-0.0009530361284196393\n",
      "p value:0.88\n",
      "\n"
     ]
    },
    {
     "name": "stderr",
     "output_type": "stream",
     "text": [
      "\n"
     ]
    }
   ],
   "source": [
    "res_placebo=model.refute_estimate(identified_estimand, estimate,\n",
    "        method_name=\"placebo_treatment_refuter\", show_progress_bar=True, placebo_type=\"permute\")\n",
    "print(res_placebo)"
   ]
  },
  {
   "cell_type": "code",
   "execution_count": 147,
   "metadata": {},
   "outputs": [
    {
     "name": "stderr",
     "output_type": "stream",
     "text": [
      "Refuting Estimates: 100%|\u001b[32m██████████\u001b[0m| 100/100 [00:08<00:00, 11.35it/s]"
     ]
    },
    {
     "name": "stdout",
     "output_type": "stream",
     "text": [
      "Refute: Use a subset of data\n",
      "Estimated effect:0.20129513887070638\n",
      "New effect:0.20226608486128775\n",
      "p value:0.6200000000000001\n",
      "\n"
     ]
    },
    {
     "name": "stderr",
     "output_type": "stream",
     "text": [
      "\n"
     ]
    }
   ],
   "source": [
    "res_subset=model.refute_estimate(identified_estimand, estimate,\n",
    "        method_name=\"data_subset_refuter\", show_progress_bar=True, subset_fraction=0.9)\n",
    "print(res_subset)"
   ]
  },
  {
   "cell_type": "code",
   "execution_count": 148,
   "metadata": {},
   "outputs": [
    {
     "name": "stderr",
     "output_type": "stream",
     "text": [
      "Refuting Estimates:   0%|\u001b[32m          \u001b[0m| 0/100 [00:00<?, ?it/s][Parallel(n_jobs=-1)]: Using backend LokyBackend with 12 concurrent workers.\n",
      "Refuting Estimates:  12%|\u001b[32m█▏        \u001b[0m| 12/100 [00:00<00:00, 118.63it/s][Parallel(n_jobs=-1)]: Done   1 tasks      | elapsed:    3.7s\n",
      "Refuting Estimates:  24%|\u001b[32m██▍       \u001b[0m| 24/100 [00:03<00:13,  5.54it/s] [Parallel(n_jobs=-1)]: Done   8 tasks      | elapsed:    3.7s\n",
      "Refuting Estimates:  36%|\u001b[32m███▌      \u001b[0m| 36/100 [00:03<00:06,  9.42it/s][Parallel(n_jobs=-1)]: Done  17 tasks      | elapsed:    4.0s\n",
      "Refuting Estimates:  48%|\u001b[32m████▊     \u001b[0m| 48/100 [00:04<00:03, 14.49it/s][Parallel(n_jobs=-1)]: Done  26 tasks      | elapsed:    4.1s\n",
      "[Parallel(n_jobs=-1)]: Done  37 tasks      | elapsed:    4.2s\n",
      "Refuting Estimates:  60%|\u001b[32m██████    \u001b[0m| 60/100 [00:04<00:01, 20.73it/s][Parallel(n_jobs=-1)]: Done  48 tasks      | elapsed:    4.3s\n",
      "Refuting Estimates:  72%|\u001b[32m███████▏  \u001b[0m| 72/100 [00:04<00:00, 28.58it/s][Parallel(n_jobs=-1)]: Done  61 tasks      | elapsed:    4.5s\n",
      "Refuting Estimates: 100%|\u001b[32m██████████\u001b[0m| 100/100 [00:04<00:00, 21.85it/s]\n",
      "[Parallel(n_jobs=-1)]: Done  74 tasks      | elapsed:    4.6s\n",
      "[Parallel(n_jobs=-1)]: Done  88 out of 100 | elapsed:    4.8s remaining:    0.6s\n"
     ]
    },
    {
     "name": "stdout",
     "output_type": "stream",
     "text": [
      "Refute: Use a subset of data\n",
      "Estimated effect:0.20129513887070638\n",
      "New effect:0.2022884323438183\n",
      "p value:0.52\n",
      "\n"
     ]
    },
    {
     "name": "stderr",
     "output_type": "stream",
     "text": [
      "[Parallel(n_jobs=-1)]: Done 100 out of 100 | elapsed:    4.8s finished\n"
     ]
    }
   ],
   "source": [
    "res_subset=model.refute_estimate(identified_estimand, estimate,\n",
    "        method_name=\"data_subset_refuter\", show_progress_bar=True, subset_fraction=0.9, random_seed = 1, n_jobs=-1, verbose=10)\n",
    "print(res_subset)"
   ]
  },
  {
   "cell_type": "markdown",
   "metadata": {},
   "source": [
    "📌 What It Means:\n",
    "\n",
    "• High p-values (>0.05) from refutation tests suggest that the causal estimate did not change significantly when noise, subset sampling, placebo treatment, or other perturbations were introduced.\n",
    "\n",
    "• This indicates that your estimate is stable and not easily altered by small changes in data or assumptions."
   ]
  },
  {
   "cell_type": "markdown",
   "metadata": {},
   "source": [
    "✅ You Can Say:\n",
    "\n",
    "Since the p-values of all refutations are above 0.05, we fail to reject the null hypothesis that the estimated causal effect remains unchanged under perturbations.\n",
    "\n",
    "Therefore, the causal estimate of 0.186 (or an 18.6% increase in normalized energy level from daily vitamin intake) is robust to refutations and likely reliable, assuming model assumptions hold."
   ]
  },
  {
   "cell_type": "markdown",
   "metadata": {},
   "source": [
    "🔍 Optional Refinement\n",
    "\n",
    "You could also mention:\n",
    "\n",
    "• Refutations don’t prove that the estimate is “true,” but they increase confidence that it’s not an artifact of bias or model instability.\n",
    "\n",
    "• It’s still crucial that your confounders are correctly specified and there’s no hidden confounding."
   ]
  },
  {
   "cell_type": "code",
   "execution_count": null,
   "metadata": {},
   "outputs": [],
   "source": []
  }
 ],
 "metadata": {
  "kernelspec": {
   "display_name": "agenticV",
   "language": "python",
   "name": "python3"
  },
  "language_info": {
   "codemirror_mode": {
    "name": "ipython",
    "version": 3
   },
   "file_extension": ".py",
   "mimetype": "text/x-python",
   "name": "python",
   "nbconvert_exporter": "python",
   "pygments_lexer": "ipython3",
   "version": "3.11.11"
  }
 },
 "nbformat": 4,
 "nbformat_minor": 2
}
