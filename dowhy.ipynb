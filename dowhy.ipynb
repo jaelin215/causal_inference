{
 "cells": [
  {
   "cell_type": "code",
   "execution_count": 149,
   "metadata": {},
   "outputs": [],
   "source": [
    "!pip install dowhy -q "
   ]
  },
  {
   "cell_type": "code",
   "execution_count": 150,
   "metadata": {},
   "outputs": [],
   "source": [
    "import numpy as np\n",
    "import pandas as pd \n",
    "from dowhy import CausalModel\n",
    "import dowhy.datasets"
   ]
  },
  {
   "cell_type": "markdown",
   "metadata": {},
   "source": [
    "### Input"
   ]
  },
  {
   "cell_type": "code",
   "execution_count": 151,
   "metadata": {},
   "outputs": [],
   "source": [
    "data = dowhy.datasets.linear_dataset(beta=10,\n",
    "        num_common_causes=5,\n",
    "        num_instruments = 2,\n",
    "        num_effect_modifiers=1,\n",
    "        num_samples=5000,\n",
    "        treatment_is_binary=True,\n",
    "        stddev_treatment_noise=10,\n",
    "        num_discrete_common_causes=1)\n",
    "df = data[\"df\"]"
   ]
  },
  {
   "cell_type": "code",
   "execution_count": 152,
   "metadata": {},
   "outputs": [
    {
     "data": {
      "text/html": [
       "<div>\n",
       "<style scoped>\n",
       "    .dataframe tbody tr th:only-of-type {\n",
       "        vertical-align: middle;\n",
       "    }\n",
       "\n",
       "    .dataframe tbody tr th {\n",
       "        vertical-align: top;\n",
       "    }\n",
       "\n",
       "    .dataframe thead th {\n",
       "        text-align: right;\n",
       "    }\n",
       "</style>\n",
       "<table border=\"1\" class=\"dataframe\">\n",
       "  <thead>\n",
       "    <tr style=\"text-align: right;\">\n",
       "      <th></th>\n",
       "      <th>X0</th>\n",
       "      <th>Z0</th>\n",
       "      <th>Z1</th>\n",
       "      <th>W0</th>\n",
       "      <th>W1</th>\n",
       "      <th>W2</th>\n",
       "      <th>W3</th>\n",
       "      <th>W4</th>\n",
       "      <th>v0</th>\n",
       "      <th>y</th>\n",
       "    </tr>\n",
       "  </thead>\n",
       "  <tbody>\n",
       "    <tr>\n",
       "      <th>0</th>\n",
       "      <td>1.659205</td>\n",
       "      <td>1.0</td>\n",
       "      <td>0.412551</td>\n",
       "      <td>-1.271891</td>\n",
       "      <td>-1.213866</td>\n",
       "      <td>-3.363240</td>\n",
       "      <td>0.740010</td>\n",
       "      <td>0</td>\n",
       "      <td>True</td>\n",
       "      <td>-7.727757</td>\n",
       "    </tr>\n",
       "    <tr>\n",
       "      <th>1</th>\n",
       "      <td>1.927444</td>\n",
       "      <td>1.0</td>\n",
       "      <td>0.158883</td>\n",
       "      <td>0.471406</td>\n",
       "      <td>-0.419258</td>\n",
       "      <td>0.772836</td>\n",
       "      <td>-1.505698</td>\n",
       "      <td>2</td>\n",
       "      <td>True</td>\n",
       "      <td>14.957155</td>\n",
       "    </tr>\n",
       "    <tr>\n",
       "      <th>2</th>\n",
       "      <td>-0.905056</td>\n",
       "      <td>0.0</td>\n",
       "      <td>0.273616</td>\n",
       "      <td>0.398389</td>\n",
       "      <td>-0.125861</td>\n",
       "      <td>-0.269796</td>\n",
       "      <td>-0.022341</td>\n",
       "      <td>2</td>\n",
       "      <td>True</td>\n",
       "      <td>8.907052</td>\n",
       "    </tr>\n",
       "    <tr>\n",
       "      <th>3</th>\n",
       "      <td>0.498213</td>\n",
       "      <td>1.0</td>\n",
       "      <td>0.402183</td>\n",
       "      <td>-0.257929</td>\n",
       "      <td>2.354469</td>\n",
       "      <td>-0.668974</td>\n",
       "      <td>0.746608</td>\n",
       "      <td>0</td>\n",
       "      <td>True</td>\n",
       "      <td>16.323740</td>\n",
       "    </tr>\n",
       "    <tr>\n",
       "      <th>4</th>\n",
       "      <td>0.223710</td>\n",
       "      <td>1.0</td>\n",
       "      <td>0.344340</td>\n",
       "      <td>-1.016008</td>\n",
       "      <td>1.401469</td>\n",
       "      <td>-1.217189</td>\n",
       "      <td>-0.236820</td>\n",
       "      <td>3</td>\n",
       "      <td>True</td>\n",
       "      <td>7.886028</td>\n",
       "    </tr>\n",
       "  </tbody>\n",
       "</table>\n",
       "</div>"
      ],
      "text/plain": [
       "         X0   Z0        Z1        W0        W1        W2        W3 W4    v0  \\\n",
       "0  1.659205  1.0  0.412551 -1.271891 -1.213866 -3.363240  0.740010  0  True   \n",
       "1  1.927444  1.0  0.158883  0.471406 -0.419258  0.772836 -1.505698  2  True   \n",
       "2 -0.905056  0.0  0.273616  0.398389 -0.125861 -0.269796 -0.022341  2  True   \n",
       "3  0.498213  1.0  0.402183 -0.257929  2.354469 -0.668974  0.746608  0  True   \n",
       "4  0.223710  1.0  0.344340 -1.016008  1.401469 -1.217189 -0.236820  3  True   \n",
       "\n",
       "           y  \n",
       "0  -7.727757  \n",
       "1  14.957155  \n",
       "2   8.907052  \n",
       "3  16.323740  \n",
       "4   7.886028  "
      ]
     },
     "execution_count": 152,
     "metadata": {},
     "output_type": "execute_result"
    }
   ],
   "source": [
    "df.head()"
   ]
  },
  {
   "cell_type": "code",
   "execution_count": 153,
   "metadata": {},
   "outputs": [],
   "source": [
    "df = df.rename(columns={\n",
    "    'v0': 'takes_vitamins_daily',\n",
    "    'y': 'energy_level',\n",
    "    'W0': 'workout_freq',\n",
    "    'W1': 'income',\n",
    "    'W2': 'fruit_consumption',\n",
    "    'W3': 'sleep_hours',\n",
    "    'W4': 'extra_confounder',  # Rename as needed\n",
    "    'Z0': 'has_vitamins_home',\n",
    "    'Z1': 'has_vitamin_prescription',\n",
    "    'X0': 'age_group'\n",
    "})"
   ]
  },
  {
   "cell_type": "code",
   "execution_count": 154,
   "metadata": {},
   "outputs": [],
   "source": [
    "df['energy_level_norm'] = (df['energy_level'] - df['energy_level'].min()) / (df['energy_level'].max() - df['energy_level'].min())"
   ]
  },
  {
   "cell_type": "markdown",
   "metadata": {},
   "source": [
    "### Causal Model"
   ]
  },
  {
   "cell_type": "code",
   "execution_count": 155,
   "metadata": {},
   "outputs": [],
   "source": [
    "from dowhy import CausalModel\n",
    "\n",
    "model = CausalModel(\n",
    "    data=df,\n",
    "    treatment='takes_vitamins_daily',\n",
    "    outcome='energy_level_norm',\n",
    "    common_causes=[\n",
    "        'workout_freq', 'income', 'fruit_consumption', 'sleep_hours', 'extra_confounder'\n",
    "    ],\n",
    "    instruments=[\n",
    "        'has_vitamins_home', 'has_vitamin_prescription'\n",
    "    ],\n",
    "    effect_modifiers=['age_group']\n",
    ")"
   ]
  },
  {
   "cell_type": "code",
   "execution_count": 156,
   "metadata": {},
   "outputs": [
    {
     "data": {
      "text/html": [
       "<div>\n",
       "<style scoped>\n",
       "    .dataframe tbody tr th:only-of-type {\n",
       "        vertical-align: middle;\n",
       "    }\n",
       "\n",
       "    .dataframe tbody tr th {\n",
       "        vertical-align: top;\n",
       "    }\n",
       "\n",
       "    .dataframe thead th {\n",
       "        text-align: right;\n",
       "    }\n",
       "</style>\n",
       "<table border=\"1\" class=\"dataframe\">\n",
       "  <thead>\n",
       "    <tr style=\"text-align: right;\">\n",
       "      <th></th>\n",
       "      <th>age_group</th>\n",
       "      <th>has_vitamins_home</th>\n",
       "      <th>has_vitamin_prescription</th>\n",
       "      <th>workout_freq</th>\n",
       "      <th>income</th>\n",
       "      <th>fruit_consumption</th>\n",
       "      <th>sleep_hours</th>\n",
       "      <th>extra_confounder</th>\n",
       "      <th>takes_vitamins_daily</th>\n",
       "      <th>energy_level</th>\n",
       "      <th>energy_level_norm</th>\n",
       "    </tr>\n",
       "  </thead>\n",
       "  <tbody>\n",
       "    <tr>\n",
       "      <th>0</th>\n",
       "      <td>1.659205</td>\n",
       "      <td>1.0</td>\n",
       "      <td>0.412551</td>\n",
       "      <td>-1.271891</td>\n",
       "      <td>-1.213866</td>\n",
       "      <td>-3.363240</td>\n",
       "      <td>0.740010</td>\n",
       "      <td>0</td>\n",
       "      <td>True</td>\n",
       "      <td>-7.727757</td>\n",
       "      <td>0.303595</td>\n",
       "    </tr>\n",
       "    <tr>\n",
       "      <th>1</th>\n",
       "      <td>1.927444</td>\n",
       "      <td>1.0</td>\n",
       "      <td>0.158883</td>\n",
       "      <td>0.471406</td>\n",
       "      <td>-0.419258</td>\n",
       "      <td>0.772836</td>\n",
       "      <td>-1.505698</td>\n",
       "      <td>2</td>\n",
       "      <td>True</td>\n",
       "      <td>14.957155</td>\n",
       "      <td>0.633222</td>\n",
       "    </tr>\n",
       "    <tr>\n",
       "      <th>2</th>\n",
       "      <td>-0.905056</td>\n",
       "      <td>0.0</td>\n",
       "      <td>0.273616</td>\n",
       "      <td>0.398389</td>\n",
       "      <td>-0.125861</td>\n",
       "      <td>-0.269796</td>\n",
       "      <td>-0.022341</td>\n",
       "      <td>2</td>\n",
       "      <td>True</td>\n",
       "      <td>8.907052</td>\n",
       "      <td>0.545310</td>\n",
       "    </tr>\n",
       "    <tr>\n",
       "      <th>3</th>\n",
       "      <td>0.498213</td>\n",
       "      <td>1.0</td>\n",
       "      <td>0.402183</td>\n",
       "      <td>-0.257929</td>\n",
       "      <td>2.354469</td>\n",
       "      <td>-0.668974</td>\n",
       "      <td>0.746608</td>\n",
       "      <td>0</td>\n",
       "      <td>True</td>\n",
       "      <td>16.323740</td>\n",
       "      <td>0.653079</td>\n",
       "    </tr>\n",
       "    <tr>\n",
       "      <th>4</th>\n",
       "      <td>0.223710</td>\n",
       "      <td>1.0</td>\n",
       "      <td>0.344340</td>\n",
       "      <td>-1.016008</td>\n",
       "      <td>1.401469</td>\n",
       "      <td>-1.217189</td>\n",
       "      <td>-0.236820</td>\n",
       "      <td>3</td>\n",
       "      <td>True</td>\n",
       "      <td>7.886028</td>\n",
       "      <td>0.530474</td>\n",
       "    </tr>\n",
       "    <tr>\n",
       "      <th>...</th>\n",
       "      <td>...</td>\n",
       "      <td>...</td>\n",
       "      <td>...</td>\n",
       "      <td>...</td>\n",
       "      <td>...</td>\n",
       "      <td>...</td>\n",
       "      <td>...</td>\n",
       "      <td>...</td>\n",
       "      <td>...</td>\n",
       "      <td>...</td>\n",
       "      <td>...</td>\n",
       "    </tr>\n",
       "    <tr>\n",
       "      <th>4995</th>\n",
       "      <td>2.364309</td>\n",
       "      <td>1.0</td>\n",
       "      <td>0.892639</td>\n",
       "      <td>0.747743</td>\n",
       "      <td>-1.917427</td>\n",
       "      <td>-1.364247</td>\n",
       "      <td>0.568051</td>\n",
       "      <td>3</td>\n",
       "      <td>True</td>\n",
       "      <td>9.318811</td>\n",
       "      <td>0.551293</td>\n",
       "    </tr>\n",
       "    <tr>\n",
       "      <th>4996</th>\n",
       "      <td>0.070210</td>\n",
       "      <td>1.0</td>\n",
       "      <td>0.998595</td>\n",
       "      <td>-0.943788</td>\n",
       "      <td>1.453228</td>\n",
       "      <td>-1.589848</td>\n",
       "      <td>-0.005528</td>\n",
       "      <td>0</td>\n",
       "      <td>True</td>\n",
       "      <td>3.699993</td>\n",
       "      <td>0.469648</td>\n",
       "    </tr>\n",
       "    <tr>\n",
       "      <th>4997</th>\n",
       "      <td>0.448175</td>\n",
       "      <td>0.0</td>\n",
       "      <td>0.904819</td>\n",
       "      <td>-0.893321</td>\n",
       "      <td>-0.408418</td>\n",
       "      <td>-2.329442</td>\n",
       "      <td>0.757352</td>\n",
       "      <td>3</td>\n",
       "      <td>True</td>\n",
       "      <td>1.192763</td>\n",
       "      <td>0.433216</td>\n",
       "    </tr>\n",
       "    <tr>\n",
       "      <th>4998</th>\n",
       "      <td>1.006945</td>\n",
       "      <td>1.0</td>\n",
       "      <td>0.204989</td>\n",
       "      <td>-0.163910</td>\n",
       "      <td>1.371780</td>\n",
       "      <td>0.280800</td>\n",
       "      <td>0.954270</td>\n",
       "      <td>3</td>\n",
       "      <td>True</td>\n",
       "      <td>23.717957</td>\n",
       "      <td>0.760522</td>\n",
       "    </tr>\n",
       "    <tr>\n",
       "      <th>4999</th>\n",
       "      <td>-0.153653</td>\n",
       "      <td>1.0</td>\n",
       "      <td>0.254463</td>\n",
       "      <td>-0.495637</td>\n",
       "      <td>-0.781009</td>\n",
       "      <td>0.111139</td>\n",
       "      <td>-0.890503</td>\n",
       "      <td>2</td>\n",
       "      <td>True</td>\n",
       "      <td>5.773827</td>\n",
       "      <td>0.499782</td>\n",
       "    </tr>\n",
       "  </tbody>\n",
       "</table>\n",
       "<p>5000 rows × 11 columns</p>\n",
       "</div>"
      ],
      "text/plain": [
       "      age_group  has_vitamins_home  has_vitamin_prescription  workout_freq  \\\n",
       "0      1.659205                1.0                  0.412551     -1.271891   \n",
       "1      1.927444                1.0                  0.158883      0.471406   \n",
       "2     -0.905056                0.0                  0.273616      0.398389   \n",
       "3      0.498213                1.0                  0.402183     -0.257929   \n",
       "4      0.223710                1.0                  0.344340     -1.016008   \n",
       "...         ...                ...                       ...           ...   \n",
       "4995   2.364309                1.0                  0.892639      0.747743   \n",
       "4996   0.070210                1.0                  0.998595     -0.943788   \n",
       "4997   0.448175                0.0                  0.904819     -0.893321   \n",
       "4998   1.006945                1.0                  0.204989     -0.163910   \n",
       "4999  -0.153653                1.0                  0.254463     -0.495637   \n",
       "\n",
       "        income  fruit_consumption  sleep_hours extra_confounder  \\\n",
       "0    -1.213866          -3.363240     0.740010                0   \n",
       "1    -0.419258           0.772836    -1.505698                2   \n",
       "2    -0.125861          -0.269796    -0.022341                2   \n",
       "3     2.354469          -0.668974     0.746608                0   \n",
       "4     1.401469          -1.217189    -0.236820                3   \n",
       "...        ...                ...          ...              ...   \n",
       "4995 -1.917427          -1.364247     0.568051                3   \n",
       "4996  1.453228          -1.589848    -0.005528                0   \n",
       "4997 -0.408418          -2.329442     0.757352                3   \n",
       "4998  1.371780           0.280800     0.954270                3   \n",
       "4999 -0.781009           0.111139    -0.890503                2   \n",
       "\n",
       "      takes_vitamins_daily  energy_level  energy_level_norm  \n",
       "0                     True     -7.727757           0.303595  \n",
       "1                     True     14.957155           0.633222  \n",
       "2                     True      8.907052           0.545310  \n",
       "3                     True     16.323740           0.653079  \n",
       "4                     True      7.886028           0.530474  \n",
       "...                    ...           ...                ...  \n",
       "4995                  True      9.318811           0.551293  \n",
       "4996                  True      3.699993           0.469648  \n",
       "4997                  True      1.192763           0.433216  \n",
       "4998                  True     23.717957           0.760522  \n",
       "4999                  True      5.773827           0.499782  \n",
       "\n",
       "[5000 rows x 11 columns]"
      ]
     },
     "execution_count": 156,
     "metadata": {},
     "output_type": "execute_result"
    }
   ],
   "source": [
    "df"
   ]
  },
  {
   "cell_type": "markdown",
   "metadata": {},
   "source": [
    "### Estimatands"
   ]
  },
  {
   "cell_type": "code",
   "execution_count": 157,
   "metadata": {},
   "outputs": [
    {
     "name": "stdout",
     "output_type": "stream",
     "text": [
      "Estimand type: EstimandType.NONPARAMETRIC_ATE\n",
      "\n",
      "### Estimand : 1\n",
      "Estimand name: backdoor\n",
      "Estimand expression:\n",
      "           d                                                                   ↪\n",
      "───────────────────────(E[energy_level_norm|workout_freq,sleep_hours,fruit_con ↪\n",
      "d[takes_vitamins_daily]                                                        ↪\n",
      "\n",
      "↪                                   \n",
      "↪ sumption,income,extra_confounder])\n",
      "↪                                   \n",
      "Estimand assumption 1, Unconfoundedness: If U→{takes_vitamins_daily} and U→energy_level_norm then P(energy_level_norm|takes_vitamins_daily,workout_freq,sleep_hours,fruit_consumption,income,extra_confounder,U) = P(energy_level_norm|takes_vitamins_daily,workout_freq,sleep_hours,fruit_consumption,income,extra_confounder)\n",
      "\n",
      "### Estimand : 2\n",
      "Estimand name: iv\n",
      "Estimand expression:\n",
      " ⎡                                                                             ↪\n",
      " ⎢                      d                                         ⎛            ↪\n",
      "E⎢─────────────────────────────────────────────(energyₗₑᵥₑₗ ₙₒᵣₘ)⋅⎜─────────── ↪\n",
      " ⎣d[has_vitamin_prescription  hasᵥᵢₜₐₘᵢₙₛ ₕₒₘₑ]                   ⎝d[has_vitam ↪\n",
      "\n",
      "↪                                                            -1⎤\n",
      "↪            d                                              ⎞  ⎥\n",
      "↪ ──────────────────────────────────([takes_vitamins_daily])⎟  ⎥\n",
      "↪ in_prescription  hasᵥᵢₜₐₘᵢₙₛ ₕₒₘₑ]                        ⎠  ⎦\n",
      "Estimand assumption 1, As-if-random: If U→→energy_level_norm then ¬(U →→{has_vitamin_prescription,has_vitamins_home})\n",
      "Estimand assumption 2, Exclusion: If we remove {has_vitamin_prescription,has_vitamins_home}→{takes_vitamins_daily}, then ¬({has_vitamin_prescription,has_vitamins_home}→energy_level_norm)\n",
      "\n",
      "### Estimand : 3\n",
      "Estimand name: frontdoor\n",
      "No such variable(s) found!\n",
      "\n"
     ]
    }
   ],
   "source": [
    "identified_estimand = model.identify_effect(proceed_when_unidentifiable=True)\n",
    "print(identified_estimand)"
   ]
  },
  {
   "cell_type": "markdown",
   "metadata": {},
   "source": [
    "### Causal Estimates - Backdoor"
   ]
  },
  {
   "cell_type": "code",
   "execution_count": 158,
   "metadata": {},
   "outputs": [
    {
     "name": "stdout",
     "output_type": "stream",
     "text": [
      "*** Causal Estimate ***\n",
      "\n",
      "## Identified estimand\n",
      "Estimand type: EstimandType.NONPARAMETRIC_ATE\n",
      "\n",
      "### Estimand : 1\n",
      "Estimand name: backdoor\n",
      "Estimand expression:\n",
      "           d                                                                   ↪\n",
      "───────────────────────(E[energy_level_norm|workout_freq,sleep_hours,fruit_con ↪\n",
      "d[takes_vitamins_daily]                                                        ↪\n",
      "\n",
      "↪                                   \n",
      "↪ sumption,income,extra_confounder])\n",
      "↪                                   \n",
      "Estimand assumption 1, Unconfoundedness: If U→{takes_vitamins_daily} and U→energy_level_norm then P(energy_level_norm|takes_vitamins_daily,workout_freq,sleep_hours,fruit_consumption,income,extra_confounder,U) = P(energy_level_norm|takes_vitamins_daily,workout_freq,sleep_hours,fruit_consumption,income,extra_confounder)\n",
      "\n",
      "## Realized estimand\n",
      "b: energy_level_norm~takes_vitamins_daily+workout_freq+sleep_hours+fruit_consumption+income+extra_confounder\n",
      "Target units: ate\n",
      "\n",
      "## Estimate\n",
      "Mean value: 0.17830193852983767\n",
      "\n"
     ]
    }
   ],
   "source": [
    "causal_estimate = model.estimate_effect(identified_estimand,\n",
    "        method_name=\"backdoor.propensity_score_stratification\")\n",
    "print(causal_estimate)"
   ]
  },
  {
   "cell_type": "markdown",
   "metadata": {},
   "source": [
    "### Results & Interpretation"
   ]
  },
  {
   "cell_type": "markdown",
   "metadata": {},
   "source": [
    "📈 Result\n",
    "\n",
    "• Causal Estimate: 0.1783\n",
    "\n",
    "• This means that taking vitamins daily increases normalized energy level by ~0.178 units on average, holding the confounders constant.\n",
    "\n",
    "• Outcome scale: Since you normalized energy_level (e.g., between 0 and 1), the effect is now interpreted on that scale."
   ]
  },
  {
   "cell_type": "markdown",
   "metadata": {},
   "source": [
    "📌 Interpretation\n",
    "\n",
    "energy_level_norm was scaled from 0 to 1:\n",
    "\n",
    "Taking vitamins daily is associated with an average 18.6% increase in normalized energy level, controlling for confounders."
   ]
  },
  {
   "cell_type": "markdown",
   "metadata": {},
   "source": [
    "🧪 Assumptions\n",
    "\n",
    "The estimate relies on the backdoor criterion, which assumes:\n",
    "\n",
    "• All confounders that affect both the treatment (takes_vitamins_daily) and the outcome (energy_level) are observed and included (like workout, sleep, etc.).\n",
    "\n",
    "• There are no unobserved confounders (i.e., the assumption of unconfoundedness holds)."
   ]
  },
  {
   "cell_type": "markdown",
   "metadata": {},
   "source": [
    "⚠️ Important Caveats\n",
    "\n",
    "• This does not mean that everyone who takes vitamins will feel exactly 0.18 units more energized. It’s an average effect across the population.\n",
    "\n",
    "• If some confounders are unobserved or measured poorly, the estimate could be biased.\n"
   ]
  },
  {
   "cell_type": "markdown",
   "metadata": {},
   "source": [
    "✅ Conclusion\n",
    "\n",
    "This is a statistically and practically interpretable causal estimate. If your model assumptions hold (especially unconfoundedness), then you can interpret this as a causal effect, not just correlation."
   ]
  },
  {
   "cell_type": "markdown",
   "metadata": {},
   "source": [
    "### Control Group\n",
    "\n",
    "📖 What ATC means:\n",
    "\t•\tATC (Average Treatment effect on the Controls) answers the question:\n",
    "“What would have happened to the control group (people who didn’t take vitamins) if they had taken the treatment (i.e. started taking vitamins)?”\n",
    "\t•\tYou’re essentially applying the treatment effect to the untreated group to see how much their outcome would have improved if they had been treated."
   ]
  },
  {
   "cell_type": "code",
   "execution_count": 159,
   "metadata": {},
   "outputs": [
    {
     "name": "stdout",
     "output_type": "stream",
     "text": [
      "*** Causal Estimate ***\n",
      "\n",
      "## Identified estimand\n",
      "Estimand type: EstimandType.NONPARAMETRIC_ATE\n",
      "\n",
      "### Estimand : 1\n",
      "Estimand name: backdoor\n",
      "Estimand expression:\n",
      "           d                                                                   ↪\n",
      "───────────────────────(E[energy_level_norm|workout_freq,sleep_hours,fruit_con ↪\n",
      "d[takes_vitamins_daily]                                                        ↪\n",
      "\n",
      "↪                                   \n",
      "↪ sumption,income,extra_confounder])\n",
      "↪                                   \n",
      "Estimand assumption 1, Unconfoundedness: If U→{takes_vitamins_daily} and U→energy_level_norm then P(energy_level_norm|takes_vitamins_daily,workout_freq,sleep_hours,fruit_consumption,income,extra_confounder,U) = P(energy_level_norm|takes_vitamins_daily,workout_freq,sleep_hours,fruit_consumption,income,extra_confounder)\n",
      "\n",
      "## Realized estimand\n",
      "b: energy_level_norm~takes_vitamins_daily+workout_freq+sleep_hours+fruit_consumption+income+extra_confounder\n",
      "Target units: atc\n",
      "\n",
      "## Estimate\n",
      "Mean value: 0.17994211418513142\n",
      "\n",
      "Causal Estimate is 0.17994211418513142\n"
     ]
    }
   ],
   "source": [
    "# Causal effect on the control group (ATC)\n",
    "causal_estimate_att = model.estimate_effect(identified_estimand,\n",
    "        method_name=\"backdoor.propensity_score_stratification\",\n",
    "        target_units = \"atc\")\n",
    "print(causal_estimate_att)\n",
    "print(\"Causal Estimate is \" + str(causal_estimate_att.value))"
   ]
  },
  {
   "cell_type": "code",
   "execution_count": 160,
   "metadata": {},
   "outputs": [],
   "source": [
    "identified_estimand = model.identify_effect(proceed_when_unidentifiable=True)"
   ]
  },
  {
   "cell_type": "code",
   "execution_count": 161,
   "metadata": {},
   "outputs": [
    {
     "name": "stdout",
     "output_type": "stream",
     "text": [
      "*** Causal Estimate ***\n",
      "\n",
      "## Identified estimand\n",
      "Estimand type: EstimandType.NONPARAMETRIC_ATE\n",
      "\n",
      "### Estimand : 1\n",
      "Estimand name: backdoor\n",
      "Estimand expression:\n",
      "           d                                                                   ↪\n",
      "───────────────────────(E[energy_level_norm|workout_freq,sleep_hours,fruit_con ↪\n",
      "d[takes_vitamins_daily]                                                        ↪\n",
      "\n",
      "↪                                   \n",
      "↪ sumption,income,extra_confounder])\n",
      "↪                                   \n",
      "Estimand assumption 1, Unconfoundedness: If U→{takes_vitamins_daily} and U→energy_level_norm then P(energy_level_norm|takes_vitamins_daily,workout_freq,sleep_hours,fruit_consumption,income,extra_confounder,U) = P(energy_level_norm|takes_vitamins_daily,workout_freq,sleep_hours,fruit_consumption,income,extra_confounder)\n",
      "\n",
      "## Realized estimand\n",
      "b: energy_level_norm~takes_vitamins_daily+workout_freq+sleep_hours+fruit_consumption+income+extra_confounder\n",
      "Target units: ate\n",
      "\n",
      "## Estimate\n",
      "Mean value: 0.17830193852983767\n",
      "\n",
      "Causal Estimate is 0.17830193852983767\n"
     ]
    }
   ],
   "source": [
    "estimate = model.estimate_effect(identified_estimand,\n",
    "                                 method_name=\"backdoor.propensity_score_stratification\")\n",
    "print(estimate)\n",
    "print(\"Causal Estimate is \" + str(estimate.value))"
   ]
  },
  {
   "cell_type": "markdown",
   "metadata": {},
   "source": [
    "### Refutation"
   ]
  },
  {
   "cell_type": "code",
   "execution_count": 162,
   "metadata": {},
   "outputs": [
    {
     "name": "stderr",
     "output_type": "stream",
     "text": [
      "Refuting Estimates: 100%|\u001b[32m██████████\u001b[0m| 100/100 [00:10<00:00,  9.40it/s]"
     ]
    },
    {
     "name": "stdout",
     "output_type": "stream",
     "text": [
      "Refute: Add a random common cause\n",
      "Estimated effect:0.17830193852983767\n",
      "New effect:0.1783019385298377\n",
      "p value:1.0\n",
      "\n"
     ]
    },
    {
     "name": "stderr",
     "output_type": "stream",
     "text": [
      "\n"
     ]
    }
   ],
   "source": [
    "res_random=model.refute_estimate(identified_estimand, estimate, method_name=\"random_common_cause\", show_progress_bar=True)\n",
    "print(res_random)"
   ]
  },
  {
   "cell_type": "code",
   "execution_count": 163,
   "metadata": {},
   "outputs": [
    {
     "name": "stderr",
     "output_type": "stream",
     "text": [
      "Refuting Estimates: 100%|\u001b[32m██████████\u001b[0m| 100/100 [00:09<00:00, 10.29it/s]"
     ]
    },
    {
     "name": "stdout",
     "output_type": "stream",
     "text": [
      "Refute: Use a Placebo Treatment\n",
      "Estimated effect:0.17830193852983767\n",
      "New effect:0.0006697727678838146\n",
      "p value:0.8400000000000001\n",
      "\n"
     ]
    },
    {
     "name": "stderr",
     "output_type": "stream",
     "text": [
      "\n"
     ]
    }
   ],
   "source": [
    "res_placebo=model.refute_estimate(identified_estimand, estimate,\n",
    "        method_name=\"placebo_treatment_refuter\", show_progress_bar=True, placebo_type=\"permute\")\n",
    "print(res_placebo)"
   ]
  },
  {
   "cell_type": "code",
   "execution_count": 164,
   "metadata": {},
   "outputs": [
    {
     "name": "stderr",
     "output_type": "stream",
     "text": [
      "Refuting Estimates: 100%|\u001b[32m██████████\u001b[0m| 100/100 [00:09<00:00, 10.40it/s]"
     ]
    },
    {
     "name": "stdout",
     "output_type": "stream",
     "text": [
      "Refute: Use a subset of data\n",
      "Estimated effect:0.17830193852983767\n",
      "New effect:0.17743032411115078\n",
      "p value:0.78\n",
      "\n"
     ]
    },
    {
     "name": "stderr",
     "output_type": "stream",
     "text": [
      "\n"
     ]
    }
   ],
   "source": [
    "res_subset=model.refute_estimate(identified_estimand, estimate,\n",
    "        method_name=\"data_subset_refuter\", show_progress_bar=True, subset_fraction=0.9)\n",
    "print(res_subset)"
   ]
  },
  {
   "cell_type": "code",
   "execution_count": 165,
   "metadata": {},
   "outputs": [
    {
     "name": "stderr",
     "output_type": "stream",
     "text": [
      "Refuting Estimates:   0%|\u001b[32m          \u001b[0m| 0/100 [00:00<?, ?it/s][Parallel(n_jobs=-1)]: Using backend LokyBackend with 12 concurrent workers.\n",
      "[Parallel(n_jobs=-1)]: Done   1 tasks      | elapsed:    3.4s\n",
      "Refuting Estimates:  24%|\u001b[32m██▍       \u001b[0m| 24/100 [00:03<00:10,  7.09it/s][Parallel(n_jobs=-1)]: Done   8 tasks      | elapsed:    3.4s\n",
      "Refuting Estimates:  36%|\u001b[32m███▌      \u001b[0m| 36/100 [00:03<00:05, 11.05it/s][Parallel(n_jobs=-1)]: Done  17 tasks      | elapsed:    3.7s\n",
      "Refuting Estimates:  48%|\u001b[32m████▊     \u001b[0m| 48/100 [00:03<00:03, 16.62it/s][Parallel(n_jobs=-1)]: Done  26 tasks      | elapsed:    3.8s\n",
      "[Parallel(n_jobs=-1)]: Done  37 tasks      | elapsed:    3.9s\n",
      "Refuting Estimates:  60%|\u001b[32m██████    \u001b[0m| 60/100 [00:03<00:01, 22.42it/s][Parallel(n_jobs=-1)]: Done  48 tasks      | elapsed:    4.0s\n",
      "Refuting Estimates:  72%|\u001b[32m███████▏  \u001b[0m| 72/100 [00:04<00:00, 30.19it/s][Parallel(n_jobs=-1)]: Done  61 tasks      | elapsed:    4.2s\n",
      "Refuting Estimates: 100%|\u001b[32m██████████\u001b[0m| 100/100 [00:04<00:00, 22.99it/s]\n",
      "[Parallel(n_jobs=-1)]: Done  74 tasks      | elapsed:    4.4s\n",
      "[Parallel(n_jobs=-1)]: Done  88 out of 100 | elapsed:    4.5s remaining:    0.6s\n"
     ]
    },
    {
     "name": "stdout",
     "output_type": "stream",
     "text": [
      "Refute: Use a subset of data\n",
      "Estimated effect:0.17830193852983767\n",
      "New effect:0.17772513261873757\n",
      "p value:0.76\n",
      "\n"
     ]
    },
    {
     "name": "stderr",
     "output_type": "stream",
     "text": [
      "[Parallel(n_jobs=-1)]: Done 100 out of 100 | elapsed:    4.7s finished\n"
     ]
    }
   ],
   "source": [
    "res_subset=model.refute_estimate(identified_estimand, estimate,\n",
    "        method_name=\"data_subset_refuter\", show_progress_bar=True, subset_fraction=0.9, random_seed = 1, n_jobs=-1, verbose=10)\n",
    "print(res_subset)"
   ]
  },
  {
   "cell_type": "markdown",
   "metadata": {},
   "source": [
    "📌 What It Means:\n",
    "\n",
    "• High p-values (>0.05) from refutation tests suggest that the causal estimate did not change significantly when noise, subset sampling, placebo treatment, or other perturbations were introduced.\n",
    "\n",
    "• This indicates that your estimate is stable and not easily altered by small changes in data or assumptions."
   ]
  },
  {
   "cell_type": "markdown",
   "metadata": {},
   "source": [
    "✅ You Can Say:\n",
    "\n",
    "Since the p-values of all refutations are above 0.05, we fail to reject the null hypothesis that the estimated causal effect remains unchanged under perturbations.\n",
    "\n",
    "Therefore, the causal estimate of 0.18 (or an 18% increase in normalized energy level from daily vitamin intake) is robust to refutations and likely reliable, assuming model assumptions hold."
   ]
  },
  {
   "cell_type": "markdown",
   "metadata": {},
   "source": [
    "🔍 Optional Refinement\n",
    "\n",
    "• Refutations don’t prove that the estimate is “true,” but they increase confidence that it’s not an artifact of bias or model instability.\n",
    "\n",
    "• It’s still crucial that your confounders are correctly specified and there’s no hidden confounding."
   ]
  },
  {
   "cell_type": "code",
   "execution_count": null,
   "metadata": {},
   "outputs": [],
   "source": []
  }
 ],
 "metadata": {
  "kernelspec": {
   "display_name": "agenticV",
   "language": "python",
   "name": "python3"
  },
  "language_info": {
   "codemirror_mode": {
    "name": "ipython",
    "version": 3
   },
   "file_extension": ".py",
   "mimetype": "text/x-python",
   "name": "python",
   "nbconvert_exporter": "python",
   "pygments_lexer": "ipython3",
   "version": "3.11.11"
  }
 },
 "nbformat": 4,
 "nbformat_minor": 2
}
